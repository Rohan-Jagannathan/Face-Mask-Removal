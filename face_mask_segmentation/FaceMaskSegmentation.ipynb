{
 "cells": [
  {
   "cell_type": "markdown",
   "metadata": {
    "id": "sXgQNSJCemJn",
    "pycharm": {
     "name": "#%% md\n"
    }
   },
   "source": [
    "#Face Mask Segmentation with UNet"
   ]
  },
  {
   "cell_type": "markdown",
   "metadata": {
    "id": "ZVyAlw76GnGQ",
    "pycharm": {
     "name": "#%% md\n"
    }
   },
   "source": [
    "Free up RAM Between Runs to Avoid Crashes"
   ]
  },
  {
   "cell_type": "code",
   "execution_count": null,
   "metadata": {
    "colab": {
     "base_uri": "https://localhost:8080/"
    },
    "id": "DqV5RvZxGnj4",
    "outputId": "507bb750-9526-4ca4-e0d4-e8dc2badb272",
    "pycharm": {
     "name": "#%%\n"
    }
   },
   "outputs": [
    {
     "output_type": "execute_result",
     "data": {
      "text/plain": [
       "128"
      ]
     },
     "metadata": {},
     "execution_count": 1
    }
   ],
   "source": [
    "import gc\n",
    "gc.collect()"
   ]
  },
  {
   "cell_type": "markdown",
   "metadata": {
    "id": "IRN4QnSN3X6D",
    "pycharm": {
     "name": "#%% md\n"
    }
   },
   "source": [
    "## Configurations"
   ]
  },
  {
   "cell_type": "code",
   "execution_count": null,
   "metadata": {
    "id": "JV63RJBO3akJ",
    "pycharm": {
     "name": "#%%\n"
    }
   },
   "outputs": [],
   "source": [
    "RUN_DATA_INITIALIZATION = True\n",
    "RUN_MODEL_TRAINING = True\n",
    "ONE_HOT_ENCODE = True\n",
    "TUNE_HYPERPARAMETERS = False"
   ]
  },
  {
   "cell_type": "markdown",
   "metadata": {
    "id": "7W6J4cHU6KcL",
    "pycharm": {
     "name": "#%% md\n"
    }
   },
   "source": [
    "Mount Google Drive"
   ]
  },
  {
   "cell_type": "code",
   "execution_count": null,
   "metadata": {
    "colab": {
     "base_uri": "https://localhost:8080/"
    },
    "id": "keZfgsiJeDpb",
    "outputId": "78c056b4-c75f-410a-e31c-aed035321f21",
    "pycharm": {
     "name": "#%%\n"
    }
   },
   "outputs": [
    {
     "output_type": "stream",
     "name": "stdout",
     "text": [
      "Mounted at /content/drive\n"
     ]
    }
   ],
   "source": [
    "from google.colab import drive\n",
    "drive.mount('/content/drive')"
   ]
  },
  {
   "cell_type": "code",
   "source": [
    "!pip install visualkeras\n",
    "!pip install keras_tuner"
   ],
   "metadata": {
    "colab": {
     "base_uri": "https://localhost:8080/"
    },
    "id": "CfJxN-HiLNg4",
    "outputId": "b732b79f-92c4-4d76-9371-75501eef1d2b",
    "pycharm": {
     "name": "#%%\n"
    }
   },
   "execution_count": null,
   "outputs": [
    {
     "output_type": "stream",
     "name": "stdout",
     "text": [
      "Looking in indexes: https://pypi.org/simple, https://us-python.pkg.dev/colab-wheels/public/simple/\n",
      "Collecting visualkeras\n",
      "  Downloading visualkeras-0.0.2-py3-none-any.whl (12 kB)\n",
      "Requirement already satisfied: pillow>=6.2.0 in /usr/local/lib/python3.7/dist-packages (from visualkeras) (7.1.2)\n",
      "Collecting aggdraw>=1.3.11\n",
      "  Downloading aggdraw-1.3.14-cp37-cp37m-manylinux_2_17_x86_64.manylinux2014_x86_64.whl (992 kB)\n",
      "\u001B[K     |████████████████████████████████| 992 kB 13.5 MB/s \n",
      "\u001B[?25hRequirement already satisfied: numpy>=1.18.1 in /usr/local/lib/python3.7/dist-packages (from visualkeras) (1.21.6)\n",
      "Installing collected packages: aggdraw, visualkeras\n",
      "Successfully installed aggdraw-1.3.14 visualkeras-0.0.2\n",
      "Looking in indexes: https://pypi.org/simple, https://us-python.pkg.dev/colab-wheels/public/simple/\n",
      "Collecting keras_tuner\n",
      "  Downloading keras_tuner-1.1.2-py3-none-any.whl (133 kB)\n",
      "\u001B[K     |████████████████████████████████| 133 kB 14.8 MB/s \n",
      "\u001B[?25hCollecting kt-legacy\n",
      "  Downloading kt_legacy-1.0.4-py3-none-any.whl (9.6 kB)\n",
      "Requirement already satisfied: packaging in /usr/local/lib/python3.7/dist-packages (from keras_tuner) (21.3)\n",
      "Requirement already satisfied: numpy in /usr/local/lib/python3.7/dist-packages (from keras_tuner) (1.21.6)\n",
      "Requirement already satisfied: tensorboard in /usr/local/lib/python3.7/dist-packages (from keras_tuner) (2.8.0)\n",
      "Requirement already satisfied: requests in /usr/local/lib/python3.7/dist-packages (from keras_tuner) (2.23.0)\n",
      "Requirement already satisfied: ipython in /usr/local/lib/python3.7/dist-packages (from keras_tuner) (5.5.0)\n",
      "Requirement already satisfied: decorator in /usr/local/lib/python3.7/dist-packages (from ipython->keras_tuner) (4.4.2)\n",
      "Requirement already satisfied: pygments in /usr/local/lib/python3.7/dist-packages (from ipython->keras_tuner) (2.6.1)\n",
      "Requirement already satisfied: setuptools>=18.5 in /usr/local/lib/python3.7/dist-packages (from ipython->keras_tuner) (57.4.0)\n",
      "Requirement already satisfied: traitlets>=4.2 in /usr/local/lib/python3.7/dist-packages (from ipython->keras_tuner) (5.1.1)\n",
      "Requirement already satisfied: pexpect in /usr/local/lib/python3.7/dist-packages (from ipython->keras_tuner) (4.8.0)\n",
      "Requirement already satisfied: prompt-toolkit<2.0.0,>=1.0.4 in /usr/local/lib/python3.7/dist-packages (from ipython->keras_tuner) (1.0.18)\n",
      "Requirement already satisfied: simplegeneric>0.8 in /usr/local/lib/python3.7/dist-packages (from ipython->keras_tuner) (0.8.1)\n",
      "Requirement already satisfied: pickleshare in /usr/local/lib/python3.7/dist-packages (from ipython->keras_tuner) (0.7.5)\n",
      "Requirement already satisfied: six>=1.9.0 in /usr/local/lib/python3.7/dist-packages (from prompt-toolkit<2.0.0,>=1.0.4->ipython->keras_tuner) (1.15.0)\n",
      "Requirement already satisfied: wcwidth in /usr/local/lib/python3.7/dist-packages (from prompt-toolkit<2.0.0,>=1.0.4->ipython->keras_tuner) (0.2.5)\n",
      "Requirement already satisfied: pyparsing!=3.0.5,>=2.0.2 in /usr/local/lib/python3.7/dist-packages (from packaging->keras_tuner) (3.0.9)\n",
      "Requirement already satisfied: ptyprocess>=0.5 in /usr/local/lib/python3.7/dist-packages (from pexpect->ipython->keras_tuner) (0.7.0)\n",
      "Requirement already satisfied: chardet<4,>=3.0.2 in /usr/local/lib/python3.7/dist-packages (from requests->keras_tuner) (3.0.4)\n",
      "Requirement already satisfied: certifi>=2017.4.17 in /usr/local/lib/python3.7/dist-packages (from requests->keras_tuner) (2022.5.18.1)\n",
      "Requirement already satisfied: urllib3!=1.25.0,!=1.25.1,<1.26,>=1.21.1 in /usr/local/lib/python3.7/dist-packages (from requests->keras_tuner) (1.24.3)\n",
      "Requirement already satisfied: idna<3,>=2.5 in /usr/local/lib/python3.7/dist-packages (from requests->keras_tuner) (2.10)\n",
      "Requirement already satisfied: markdown>=2.6.8 in /usr/local/lib/python3.7/dist-packages (from tensorboard->keras_tuner) (3.3.7)\n",
      "Requirement already satisfied: werkzeug>=0.11.15 in /usr/local/lib/python3.7/dist-packages (from tensorboard->keras_tuner) (1.0.1)\n",
      "Requirement already satisfied: tensorboard-data-server<0.7.0,>=0.6.0 in /usr/local/lib/python3.7/dist-packages (from tensorboard->keras_tuner) (0.6.1)\n",
      "Requirement already satisfied: wheel>=0.26 in /usr/local/lib/python3.7/dist-packages (from tensorboard->keras_tuner) (0.37.1)\n",
      "Requirement already satisfied: google-auth-oauthlib<0.5,>=0.4.1 in /usr/local/lib/python3.7/dist-packages (from tensorboard->keras_tuner) (0.4.6)\n",
      "Requirement already satisfied: grpcio>=1.24.3 in /usr/local/lib/python3.7/dist-packages (from tensorboard->keras_tuner) (1.46.1)\n",
      "Requirement already satisfied: protobuf>=3.6.0 in /usr/local/lib/python3.7/dist-packages (from tensorboard->keras_tuner) (3.17.3)\n",
      "Requirement already satisfied: absl-py>=0.4 in /usr/local/lib/python3.7/dist-packages (from tensorboard->keras_tuner) (1.0.0)\n",
      "Requirement already satisfied: google-auth<3,>=1.6.3 in /usr/local/lib/python3.7/dist-packages (from tensorboard->keras_tuner) (1.35.0)\n",
      "Requirement already satisfied: tensorboard-plugin-wit>=1.6.0 in /usr/local/lib/python3.7/dist-packages (from tensorboard->keras_tuner) (1.8.1)\n",
      "Requirement already satisfied: rsa<5,>=3.1.4 in /usr/local/lib/python3.7/dist-packages (from google-auth<3,>=1.6.3->tensorboard->keras_tuner) (4.8)\n",
      "Requirement already satisfied: cachetools<5.0,>=2.0.0 in /usr/local/lib/python3.7/dist-packages (from google-auth<3,>=1.6.3->tensorboard->keras_tuner) (4.2.4)\n",
      "Requirement already satisfied: pyasn1-modules>=0.2.1 in /usr/local/lib/python3.7/dist-packages (from google-auth<3,>=1.6.3->tensorboard->keras_tuner) (0.2.8)\n",
      "Requirement already satisfied: requests-oauthlib>=0.7.0 in /usr/local/lib/python3.7/dist-packages (from google-auth-oauthlib<0.5,>=0.4.1->tensorboard->keras_tuner) (1.3.1)\n",
      "Requirement already satisfied: importlib-metadata>=4.4 in /usr/local/lib/python3.7/dist-packages (from markdown>=2.6.8->tensorboard->keras_tuner) (4.11.3)\n",
      "Requirement already satisfied: typing-extensions>=3.6.4 in /usr/local/lib/python3.7/dist-packages (from importlib-metadata>=4.4->markdown>=2.6.8->tensorboard->keras_tuner) (4.2.0)\n",
      "Requirement already satisfied: zipp>=0.5 in /usr/local/lib/python3.7/dist-packages (from importlib-metadata>=4.4->markdown>=2.6.8->tensorboard->keras_tuner) (3.8.0)\n",
      "Requirement already satisfied: pyasn1<0.5.0,>=0.4.6 in /usr/local/lib/python3.7/dist-packages (from pyasn1-modules>=0.2.1->google-auth<3,>=1.6.3->tensorboard->keras_tuner) (0.4.8)\n",
      "Requirement already satisfied: oauthlib>=3.0.0 in /usr/local/lib/python3.7/dist-packages (from requests-oauthlib>=0.7.0->google-auth-oauthlib<0.5,>=0.4.1->tensorboard->keras_tuner) (3.2.0)\n",
      "Installing collected packages: kt-legacy, keras-tuner\n",
      "Successfully installed keras-tuner-1.1.2 kt-legacy-1.0.4\n"
     ]
    }
   ]
  },
  {
   "cell_type": "markdown",
   "metadata": {
    "id": "Z6A7BafT2-Lz",
    "pycharm": {
     "name": "#%% md\n"
    }
   },
   "source": [
    "Imports"
   ]
  },
  {
   "cell_type": "code",
   "execution_count": null,
   "metadata": {
    "id": "PIn1XIZj2arU",
    "pycharm": {
     "name": "#%%\n"
    }
   },
   "outputs": [],
   "source": [
    "import numpy as np\n",
    "import cv2 as cv\n",
    "import h5py\n",
    "import tensorflow as tf\n",
    "import matplotlib.pyplot as plt\n",
    "from random import randint\n",
    "import time\n",
    "from tensorflow.keras import Input\n",
    "import visualkeras\n",
    "from PIL import ImageFont\n",
    "import keras_tuner as kt"
   ]
  },
  {
   "cell_type": "markdown",
   "metadata": {
    "id": "ABEJfRGD7Z3z",
    "pycharm": {
     "name": "#%% md\n"
    }
   },
   "source": [
    "File Path Constants"
   ]
  },
  {
   "cell_type": "code",
   "execution_count": null,
   "metadata": {
    "id": "mIpKwmuKehvn",
    "pycharm": {
     "name": "#%%\n"
    }
   },
   "outputs": [],
   "source": [
    "BASE_PATH = '/content/drive/My Drive/'\n",
    "DATASET_PATH = 'dataset/'\n",
    "PROCESSED_PATH = BASE_PATH + DATASET_PATH + 'processed_files.txt'\n",
    "HDF5_PATH = BASE_PATH + DATASET_PATH + 'dataset.hdf5'\n",
    "CHECKPOINT_PATH = BASE_PATH + 'checkpoints/'\n",
    "MODEL_PATH = BASE_PATH + 'models/segmentation/'"
   ]
  },
  {
   "cell_type": "markdown",
   "metadata": {
    "id": "5TEqUe5YAG8B",
    "pycharm": {
     "name": "#%% md\n"
    }
   },
   "source": [
    "Globals"
   ]
  },
  {
   "cell_type": "code",
   "execution_count": null,
   "metadata": {
    "id": "qo4GIDT0AH-P",
    "pycharm": {
     "name": "#%%\n"
    }
   },
   "outputs": [],
   "source": [
    "DATASET_SIZE = 1200\n",
    "inputs = [] if 'inputs' not in globals() else inputs\n",
    "segmaps = [] if 'segmaps' not in globals() else segmaps"
   ]
  },
  {
   "cell_type": "markdown",
   "metadata": {
    "id": "N3e4r79bC_Gc",
    "pycharm": {
     "name": "#%% md\n"
    }
   },
   "source": [
    "Initialize Input and Segmap Arrays from Pickle"
   ]
  },
  {
   "cell_type": "code",
   "execution_count": null,
   "metadata": {
    "id": "M6X8lrmo1VKC",
    "pycharm": {
     "name": "#%%\n"
    }
   },
   "outputs": [],
   "source": [
    "if RUN_DATA_INITIALIZATION:\n",
    "  # read images from HDF5 into numpy arrays\n",
    "  h5f = h5py.File(HDF5_PATH,'r')\n",
    "  inputs = h5f['masked_faces'][0:DATASET_SIZE]\n",
    "  segmaps = h5f['segmentation_masks'][0:DATASET_SIZE]\n",
    "  h5f.close()\n",
    "  del h5f\n",
    "  gc.collect()"
   ]
  },
  {
   "cell_type": "markdown",
   "metadata": {
    "id": "9GvlazCHDF9h",
    "pycharm": {
     "name": "#%% md\n"
    }
   },
   "source": [
    "Show Input-Label Pair Example"
   ]
  },
  {
   "cell_type": "code",
   "execution_count": null,
   "metadata": {
    "colab": {
     "base_uri": "https://localhost:8080/",
     "height": 519
    },
    "id": "ptMokO3b8_rn",
    "outputId": "a42e869f-0a26-446e-beca-a7df529fd80e",
    "pycharm": {
     "name": "#%%\n"
    }
   },
   "outputs": [
    {
     "output_type": "display_data",
     "data": {
      "text/plain": [
       "<Figure size 432x288 with 1 Axes>"
      ],
      "image/png": "[encoded data removed]"
     },
     "metadata": {
      "needs_background": "light"
     }
    },
    {
     "output_type": "display_data",
     "data": {
      "text/plain": [
       "<Figure size 432x288 with 1 Axes>"
      ],
      "image/png": "[encoded data removed]"
     },
     "metadata": {
      "needs_background": "light"
     }
    }
   ],
   "source": [
    "rand_index = randint(0, DATASET_SIZE)\n",
    "plt.imshow(inputs[rand_index])\n",
    "plt.show()\n",
    "\n",
    "plt.imshow(segmaps[rand_index])\n",
    "plt.show()"
   ]
  },
  {
   "cell_type": "markdown",
   "source": [
    "Segmentation Classes Histogram"
   ],
   "metadata": {
    "id": "B3i5Wm9bYyo4",
    "pycharm": {
     "name": "#%% md\n"
    }
   }
  },
  {
   "cell_type": "code",
   "source": [
    "values = [0] * 2\n",
    "names = ['not mask', 'mask']\n",
    "colors = [(0, 0, 0), (1, 1, 0)]\n",
    "\n",
    "for ctr, segmap in enumerate(segmaps):\n",
    "    for i in range(0, len(segmap) - 1):\n",
    "        for j in range(0, len(segmap[i]) - 1):\n",
    "            values[segmap[i][j]] += 1\n",
    "\n",
    "plt.title('Segmentation Distribution')\n",
    "plt.bar(names, values, color=colors)\n",
    "plt.show()"
   ],
   "metadata": {
    "colab": {
     "base_uri": "https://localhost:8080/",
     "height": 281
    },
    "id": "4tYOMocDY3Wa",
    "outputId": "fc5590d2-b2bf-4ab7-f800-91889be3b6e4",
    "pycharm": {
     "name": "#%%\n"
    }
   },
   "execution_count": null,
   "outputs": [
    {
     "output_type": "display_data",
     "data": {
      "text/plain": [
       "<Figure size 432x288 with 1 Axes>"
      ],
      "image/png": "[encoded data removed]"
     },
     "metadata": {
      "needs_background": "light"
     }
    }
   ]
  },
  {
   "cell_type": "markdown",
   "metadata": {
    "id": "kSZG-0e3BA7Q",
    "pycharm": {
     "name": "#%% md\n"
    }
   },
   "source": [
    "## Create Dataset Splits"
   ]
  },
  {
   "cell_type": "code",
   "execution_count": null,
   "metadata": {
    "id": "PVkJ44vzNovV",
    "pycharm": {
     "name": "#%%\n"
    }
   },
   "outputs": [],
   "source": [
    "x = tf.convert_to_tensor(np.array(inputs) / 255)\n",
    "y = tf.one_hot(segmaps, 2, dtype='uint8') if ONE_HOT_ENCODE else segmaps\n",
    "\n",
    "# 60:20:20 Split\n",
    "train_end = (DATASET_SIZE * 3) // 5\n",
    "valid_end = (DATASET_SIZE // 5) + train_end\n",
    "\n",
    "train_data = tf.data.Dataset.from_tensors((x[:train_end], y[:train_end]))\n",
    "valid_data = tf.data.Dataset.from_tensors((x[train_end:valid_end], y[train_end:valid_end]))\n",
    "test_data = tf.data.Dataset.from_tensors((x[valid_end:], y[valid_end:]))"
   ]
  },
  {
   "cell_type": "markdown",
   "metadata": {
    "id": "ppBU61A9ycM4",
    "pycharm": {
     "name": "#%% md\n"
    }
   },
   "source": [
    "# Model Architecture"
   ]
  },
  {
   "cell_type": "markdown",
   "metadata": {
    "id": "lV6xM2MDI_Lr",
    "pycharm": {
     "name": "#%% md\n"
    }
   },
   "source": [
    "Define Double Convolution Downsampling Block"
   ]
  },
  {
   "cell_type": "code",
   "execution_count": null,
   "metadata": {
    "id": "OqoN7vsSj7-D",
    "pycharm": {
     "name": "#%%\n"
    }
   },
   "outputs": [],
   "source": [
    "def downsample(inputs, n_filters=64, kernel_dims=3, p_dropout=0.0, pool_size=2):\n",
    "  # Double convolution\n",
    "  conv = tf.keras.layers.Conv2D(n_filters, kernel_size=kernel_dims, padding='same', activation='relu', \n",
    "                                kernel_initializer='he_normal')(inputs)\n",
    "  conv = tf.keras.layers.Conv2D(n_filters, kernel_size=kernel_dims, padding='same', activation='relu',\n",
    "                                kernel_initializer='he_normal')(conv)\n",
    "  \n",
    "  # Add dropout with specified probability\n",
    "  if p_dropout > 0.0:\n",
    "    conv = tf.keras.layers.Dropout(p_dropout)(conv)\n",
    "  \n",
    "  skip = conv\n",
    "\n",
    "  # Perform Max Pooling with specified pool size\n",
    "  if pool_size > 0:\n",
    "    pool = tf.keras.layers.MaxPool2D((pool_size, pool_size))(conv)\n",
    "  else:\n",
    "    pool = conv\n",
    "\n",
    "  return pool, skip"
   ]
  },
  {
   "cell_type": "markdown",
   "metadata": {
    "id": "N86qDP0iJJKT",
    "pycharm": {
     "name": "#%% md\n"
    }
   },
   "source": [
    "Define Double Transpose Convolution Upsampling Block"
   ]
  },
  {
   "cell_type": "code",
   "execution_count": null,
   "metadata": {
    "id": "cdt_lkJKJIPx",
    "pycharm": {
     "name": "#%%\n"
    }
   },
   "outputs": [],
   "source": [
    "def upsample(prev_inputs, skip_inputs, n_filters=64, kernel_dims=3, stride=2):\n",
    "\n",
    "    # Transpose convolution\n",
    "    conv_t1 = tf.keras.layers.Conv2DTranspose(n_filters, kernel_size=(kernel_dims, kernel_dims),\n",
    "                                            strides=(stride, stride), padding='same')(prev_inputs)\n",
    "\n",
    "    # Concatenate transpose convolution with skip layer\n",
    "    concat = tf.keras.layers.concatenate([conv_t1, skip_inputs], axis=3)\n",
    "\n",
    "    conv_1 = tf.keras.layers.Conv2D(n_filters, kernel_size=kernel_dims, padding='same',\n",
    "                                    activation='relu', kernel_initializer='he_normal')(concat)\n",
    "\n",
    "    conv_2 = tf.keras.layers.Conv2D(n_filters, kernel_size=kernel_dims, padding='same',\n",
    "                                    activation='relu', kernel_initializer='he_normal')(conv_1)\n",
    "\n",
    "    return conv_2"
   ]
  },
  {
   "cell_type": "markdown",
   "metadata": {
    "id": "BShUD7KIKofV",
    "pycharm": {
     "name": "#%% md\n"
    }
   },
   "source": [
    "Define UNet"
   ]
  },
  {
   "cell_type": "code",
   "execution_count": null,
   "metadata": {
    "id": "jMwfhDDVKqDS",
    "pycharm": {
     "name": "#%%\n"
    }
   },
   "outputs": [],
   "source": [
    "def unet(input_shape, n_filters, n_classes):\n",
    "  inputs = tf.keras.layers.Input(input_shape)\n",
    "\n",
    "  down1 = downsample(inputs, n_filters)\n",
    "  down2 = downsample(down1[0], n_filters * 2)\n",
    "  down3 = downsample(down2[0], n_filters * 4)\n",
    "  down4 = downsample(down3[0], n_filters * 8, pool_size=0)\n",
    "  up1 = upsample(down4[0], down3[1], n_filters * 4)\n",
    "  up2 = upsample(up1, down2[1], n_filters * 2)\n",
    "  up3 = upsample(up2, down1[1], n_filters)\n",
    "\n",
    "  conv = tf.keras.layers.Conv2D(n_filters, kernel_size=3, activation='relu', padding='same',\n",
    "                kernel_initializer='he_normal')(up3)\n",
    "\n",
    "  conv2 = tf.keras.layers.Conv2D(n_classes, kernel_size=1, activation='softmax', padding='same')(conv)\n",
    "  \n",
    "  model = tf.keras.Model(inputs=inputs, outputs=conv2)\n",
    "\n",
    "  return model"
   ]
  },
  {
   "cell_type": "markdown",
   "metadata": {
    "id": "7uEP2xK3NjAc",
    "pycharm": {
     "name": "#%% md\n"
    }
   },
   "source": [
    "Create UNet"
   ]
  },
  {
   "cell_type": "code",
   "execution_count": null,
   "metadata": {
    "colab": {
     "base_uri": "https://localhost:8080/"
    },
    "id": "nowoMRJaNoE4",
    "outputId": "91a5045c-da54-4ddc-ac09-296699f51d9b",
    "pycharm": {
     "name": "#%%\n"
    }
   },
   "outputs": [
    {
     "output_type": "stream",
     "name": "stdout",
     "text": [
      "Model: \"model\"\n",
      "__________________________________________________________________________________________________\n",
      " Layer (type)                   Output Shape         Param #     Connected to                     \n",
      "==================================================================================================\n",
      " input_1 (InputLayer)           [(None, 104, 88, 3)  0           []                               \n",
      "                                ]                                                                 \n",
      "                                                                                                  \n",
      " conv2d (Conv2D)                (None, 104, 88, 32)  896         ['input_1[0][0]']                \n",
      "                                                                                                  \n",
      " conv2d_1 (Conv2D)              (None, 104, 88, 32)  9248        ['conv2d[0][0]']                 \n",
      "                                                                                                  \n",
      " max_pooling2d (MaxPooling2D)   (None, 52, 44, 32)   0           ['conv2d_1[0][0]']               \n",
      "                                                                                                  \n",
      " conv2d_2 (Conv2D)              (None, 52, 44, 64)   18496       ['max_pooling2d[0][0]']          \n",
      "                                                                                                  \n",
      " conv2d_3 (Conv2D)              (None, 52, 44, 64)   36928       ['conv2d_2[0][0]']               \n",
      "                                                                                                  \n",
      " max_pooling2d_1 (MaxPooling2D)  (None, 26, 22, 64)  0           ['conv2d_3[0][0]']               \n",
      "                                                                                                  \n",
      " conv2d_4 (Conv2D)              (None, 26, 22, 128)  73856       ['max_pooling2d_1[0][0]']        \n",
      "                                                                                                  \n",
      " conv2d_5 (Conv2D)              (None, 26, 22, 128)  147584      ['conv2d_4[0][0]']               \n",
      "                                                                                                  \n",
      " max_pooling2d_2 (MaxPooling2D)  (None, 13, 11, 128)  0          ['conv2d_5[0][0]']               \n",
      "                                                                                                  \n",
      " conv2d_6 (Conv2D)              (None, 13, 11, 256)  295168      ['max_pooling2d_2[0][0]']        \n",
      "                                                                                                  \n",
      " conv2d_7 (Conv2D)              (None, 13, 11, 256)  590080      ['conv2d_6[0][0]']               \n",
      "                                                                                                  \n",
      " conv2d_transpose (Conv2DTransp  (None, 26, 22, 128)  295040     ['conv2d_7[0][0]']               \n",
      " ose)                                                                                             \n",
      "                                                                                                  \n",
      " concatenate (Concatenate)      (None, 26, 22, 256)  0           ['conv2d_transpose[0][0]',       \n",
      "                                                                  'conv2d_5[0][0]']               \n",
      "                                                                                                  \n",
      " conv2d_8 (Conv2D)              (None, 26, 22, 128)  295040      ['concatenate[0][0]']            \n",
      "                                                                                                  \n",
      " conv2d_9 (Conv2D)              (None, 26, 22, 128)  147584      ['conv2d_8[0][0]']               \n",
      "                                                                                                  \n",
      " conv2d_transpose_1 (Conv2DTran  (None, 52, 44, 64)  73792       ['conv2d_9[0][0]']               \n",
      " spose)                                                                                           \n",
      "                                                                                                  \n",
      " concatenate_1 (Concatenate)    (None, 52, 44, 128)  0           ['conv2d_transpose_1[0][0]',     \n",
      "                                                                  'conv2d_3[0][0]']               \n",
      "                                                                                                  \n",
      " conv2d_10 (Conv2D)             (None, 52, 44, 64)   73792       ['concatenate_1[0][0]']          \n",
      "                                                                                                  \n",
      " conv2d_11 (Conv2D)             (None, 52, 44, 64)   36928       ['conv2d_10[0][0]']              \n",
      "                                                                                                  \n",
      " conv2d_transpose_2 (Conv2DTran  (None, 104, 88, 32)  18464      ['conv2d_11[0][0]']              \n",
      " spose)                                                                                           \n",
      "                                                                                                  \n",
      " concatenate_2 (Concatenate)    (None, 104, 88, 64)  0           ['conv2d_transpose_2[0][0]',     \n",
      "                                                                  'conv2d_1[0][0]']               \n",
      "                                                                                                  \n",
      " conv2d_12 (Conv2D)             (None, 104, 88, 32)  18464       ['concatenate_2[0][0]']          \n",
      "                                                                                                  \n",
      " conv2d_13 (Conv2D)             (None, 104, 88, 32)  9248        ['conv2d_12[0][0]']              \n",
      "                                                                                                  \n",
      " conv2d_14 (Conv2D)             (None, 104, 88, 32)  9248        ['conv2d_13[0][0]']              \n",
      "                                                                                                  \n",
      " conv2d_15 (Conv2D)             (None, 104, 88, 2)   66          ['conv2d_14[0][0]']              \n",
      "                                                                                                  \n",
      "==================================================================================================\n",
      "Total params: 2,149,922\n",
      "Trainable params: 2,149,922\n",
      "Non-trainable params: 0\n",
      "__________________________________________________________________________________________________\n"
     ]
    }
   ],
   "source": [
    "n_filters = 32\n",
    "n_classes = 2 if ONE_HOT_ENCODE else 1\n",
    "height = 104\n",
    "width = 88\n",
    "image_channels = 3\n",
    "\n",
    "model = unet(input_shape=(height, width, image_channels),\n",
    "             n_filters=n_filters, n_classes=n_classes)\n",
    "\n",
    "model.summary()"
   ]
  },
  {
   "cell_type": "code",
   "source": [
    "visualkeras.layered_view(model, legend=True)"
   ],
   "metadata": {
    "id": "rDOmyXCpge86",
    "colab": {
     "base_uri": "https://localhost:8080/",
     "height": 544
    },
    "outputId": "6ed8d189-9d38-4fd1-cb18-3d06d96935b0",
    "pycharm": {
     "name": "#%%\n"
    }
   },
   "execution_count": null,
   "outputs": [
    {
     "output_type": "execute_result",
     "data": {
      "text/plain": [
       "<PIL.Image.Image image mode=RGBA size=946x527 at 0x7F4A18320910>"
      ],
      "image/png": "[encoded data removed]"
     },
     "metadata": {},
     "execution_count": 16
    }
   ]
  },
  {
   "cell_type": "markdown",
   "source": [
    "Tune Hyperparameters"
   ],
   "metadata": {
    "id": "LaTkDBDI7261",
    "pycharm": {
     "name": "#%% md\n"
    }
   }
  },
  {
   "cell_type": "code",
   "source": [
    "def build_model(hp):\n",
    "    model = unet(input_shape=(height, width, image_channels), n_filters=n_filters, n_classes=n_classes)\n",
    "    model.compile(tf.keras.optimizers.Adam(learning_rate=hp.Float('learning_rate', 1e-4, 1e-2, sampling='log')), \n",
    "                  loss=tf.keras.losses.CategoricalCrossentropy(from_logits=False))\n",
    "    return model"
   ],
   "metadata": {
    "id": "Yug9B5cj756H",
    "pycharm": {
     "name": "#%%\n"
    }
   },
   "execution_count": null,
   "outputs": []
  },
  {
   "cell_type": "code",
   "source": [
    "if TUNE_HYPERPARAMETERS:\n",
    "    tuner = kt.Hyperband(\n",
    "        build_model,\n",
    "        objective='val_loss',\n",
    "        max_epochs=50,\n",
    "        hyperband_iterations=2)\n",
    "\n",
    "    tuner.search(train_data,\n",
    "                 validation_data=valid_data,\n",
    "                 epochs=10,\n",
    "                 callbacks=[tf.keras.callbacks.EarlyStopping(monitor='val_loss', patience=1)])"
   ],
   "metadata": {
    "id": "z1ng4SSU9Bbj",
    "pycharm": {
     "name": "#%%\n"
    }
   },
   "execution_count": null,
   "outputs": []
  },
  {
   "cell_type": "code",
   "source": [
    "if TUNE_HYPERPARAMETERS:\n",
    "    print(tuner.get_best_hyperparameters()[0].get('learning_rate'))"
   ],
   "metadata": {
    "id": "9K0w_imLAZ6_",
    "pycharm": {
     "name": "#%%\n"
    }
   },
   "execution_count": null,
   "outputs": []
  },
  {
   "cell_type": "code",
   "execution_count": null,
   "metadata": {
    "id": "5kZ1C7LPQSxk",
    "pycharm": {
     "name": "#%%\n"
    }
   },
   "outputs": [],
   "source": [
    "model.compile(tf.keras.optimizers.Adam(learning_rate=0.00011183105292845106),\n",
    "              loss=tf.keras.losses.CategoricalCrossentropy(from_logits=False),\n",
    "              metrics=['accuracy'])"
   ]
  },
  {
   "cell_type": "code",
   "source": [
    "class MyCustomCallback(tf.keras.callbacks.Callback):\n",
    "  def on_epoch_end(self, epoch, logs=None):\n",
    "    gc.collect()"
   ],
   "metadata": {
    "id": "-RqBgyhqeby0",
    "pycharm": {
     "name": "#%%\n"
    }
   },
   "execution_count": null,
   "outputs": []
  },
  {
   "cell_type": "code",
   "execution_count": null,
   "metadata": {
    "id": "dv-GjE3Rb6_i",
    "colab": {
     "base_uri": "https://localhost:8080/",
     "height": 1000
    },
    "outputId": "df1fc362-6509-485b-a193-937632b4c2af",
    "pycharm": {
     "name": "#%%\n"
    }
   },
   "outputs": [
    {
     "output_type": "stream",
     "name": "stdout",
     "text": [
      "Epoch 1/80\n",
      "1/1 [==============================] - 21s 21s/step - loss: 0.7342 - accuracy: 0.3916 - val_loss: 0.6808 - val_accuracy: 0.5967\n",
      "Epoch 2/80\n",
      "1/1 [==============================] - 1s 868ms/step - loss: 0.6797 - accuracy: 0.5982 - val_loss: 0.6300 - val_accuracy: 0.7619\n",
      "Epoch 3/80\n",
      "1/1 [==============================] - 1s 902ms/step - loss: 0.6277 - accuracy: 0.7680 - val_loss: 0.5800 - val_accuracy: 0.8596\n",
      "Epoch 4/80\n",
      "1/1 [==============================] - 1s 875ms/step - loss: 0.5766 - accuracy: 0.8650 - val_loss: 0.5334 - val_accuracy: 0.8770\n",
      "Epoch 5/80\n",
      "1/1 [==============================] - 1s 893ms/step - loss: 0.5284 - accuracy: 0.8829 - val_loss: 0.4968 - val_accuracy: 0.8819\n",
      "Epoch 6/80\n",
      "1/1 [==============================] - 1s 886ms/step - loss: 0.4893 - accuracy: 0.8879 - val_loss: 0.4770 - val_accuracy: 0.8855\n",
      "Epoch 7/80\n",
      "1/1 [==============================] - 1s 692ms/step - loss: 0.4663 - accuracy: 0.8915 - val_loss: 0.4781 - val_accuracy: 0.8886\n",
      "Epoch 8/80\n",
      "1/1 [==============================] - 1s 694ms/step - loss: 0.4641 - accuracy: 0.8946 - val_loss: 0.4857 - val_accuracy: 0.8905\n",
      "Epoch 9/80\n",
      "1/1 [==============================] - 1s 691ms/step - loss: 0.4695 - accuracy: 0.8965 - val_loss: 0.4809 - val_accuracy: 0.8923\n",
      "Epoch 10/80\n",
      "1/1 [==============================] - 1s 891ms/step - loss: 0.4643 - accuracy: 0.8983 - val_loss: 0.4666 - val_accuracy: 0.8933\n",
      "Epoch 11/80\n",
      "1/1 [==============================] - 1s 886ms/step - loss: 0.4508 - accuracy: 0.8993 - val_loss: 0.4526 - val_accuracy: 0.8939\n",
      "Epoch 12/80\n",
      "1/1 [==============================] - 1s 877ms/step - loss: 0.4379 - accuracy: 0.8999 - val_loss: 0.4433 - val_accuracy: 0.8943\n",
      "Epoch 13/80\n",
      "1/1 [==============================] - 1s 873ms/step - loss: 0.4297 - accuracy: 0.9002 - val_loss: 0.4379 - val_accuracy: 0.8945\n",
      "Epoch 14/80\n",
      "1/1 [==============================] - 1s 875ms/step - loss: 0.4251 - accuracy: 0.9005 - val_loss: 0.4339 - val_accuracy: 0.8949\n",
      "Epoch 15/80\n",
      "1/1 [==============================] - 1s 879ms/step - loss: 0.4217 - accuracy: 0.9009 - val_loss: 0.4295 - val_accuracy: 0.8951\n",
      "Epoch 16/80\n",
      "1/1 [==============================] - 1s 887ms/step - loss: 0.4177 - accuracy: 0.9012 - val_loss: 0.4238 - val_accuracy: 0.8952\n",
      "Epoch 17/80\n",
      "1/1 [==============================] - 1s 890ms/step - loss: 0.4121 - accuracy: 0.9012 - val_loss: 0.4167 - val_accuracy: 0.8952\n",
      "Epoch 18/80\n",
      "1/1 [==============================] - 1s 886ms/step - loss: 0.4048 - accuracy: 0.9012 - val_loss: 0.4091 - val_accuracy: 0.8950\n",
      "Epoch 19/80\n",
      "1/1 [==============================] - 1s 873ms/step - loss: 0.3968 - accuracy: 0.9011 - val_loss: 0.4025 - val_accuracy: 0.8949\n",
      "Epoch 20/80\n",
      "1/1 [==============================] - 1s 894ms/step - loss: 0.3899 - accuracy: 0.9009 - val_loss: 0.3974 - val_accuracy: 0.8948\n",
      "Epoch 21/80\n",
      "1/1 [==============================] - 1s 911ms/step - loss: 0.3844 - accuracy: 0.9008 - val_loss: 0.3906 - val_accuracy: 0.8949\n",
      "Epoch 22/80\n",
      "1/1 [==============================] - 1s 907ms/step - loss: 0.3775 - accuracy: 0.9009 - val_loss: 0.3802 - val_accuracy: 0.8951\n",
      "Epoch 23/80\n",
      "1/1 [==============================] - 1s 878ms/step - loss: 0.3676 - accuracy: 0.9011 - val_loss: 0.3691 - val_accuracy: 0.8955\n",
      "Epoch 24/80\n",
      "1/1 [==============================] - 1s 884ms/step - loss: 0.3571 - accuracy: 0.9015 - val_loss: 0.3597 - val_accuracy: 0.8960\n",
      "Epoch 25/80\n",
      "1/1 [==============================] - 1s 876ms/step - loss: 0.3481 - accuracy: 0.9020 - val_loss: 0.3506 - val_accuracy: 0.8962\n",
      "Epoch 26/80\n",
      "1/1 [==============================] - 1s 904ms/step - loss: 0.3394 - accuracy: 0.9023 - val_loss: 0.3403 - val_accuracy: 0.8963\n",
      "Epoch 27/80\n",
      "1/1 [==============================] - 1s 901ms/step - loss: 0.3291 - accuracy: 0.9024 - val_loss: 0.3292 - val_accuracy: 0.8964\n",
      "Epoch 28/80\n",
      "1/1 [==============================] - 1s 886ms/step - loss: 0.3179 - accuracy: 0.9025 - val_loss: 0.3195 - val_accuracy: 0.8965\n",
      "Epoch 29/80\n",
      "1/1 [==============================] - 1s 878ms/step - loss: 0.3081 - accuracy: 0.9026 - val_loss: 0.3086 - val_accuracy: 0.8967\n",
      "Epoch 30/80\n",
      "1/1 [==============================] - 1s 881ms/step - loss: 0.2972 - accuracy: 0.9028 - val_loss: 0.2954 - val_accuracy: 0.8968\n",
      "Epoch 31/80\n",
      "1/1 [==============================] - 1s 889ms/step - loss: 0.2844 - accuracy: 0.9029 - val_loss: 0.2836 - val_accuracy: 0.8968\n",
      "Epoch 32/80\n",
      "1/1 [==============================] - 1s 908ms/step - loss: 0.2729 - accuracy: 0.9029 - val_loss: 0.2718 - val_accuracy: 0.8968\n",
      "Epoch 33/80\n",
      "1/1 [==============================] - 1s 890ms/step - loss: 0.2611 - accuracy: 0.9029 - val_loss: 0.2593 - val_accuracy: 0.8968\n",
      "Epoch 34/80\n",
      "1/1 [==============================] - 1s 885ms/step - loss: 0.2483 - accuracy: 0.9029 - val_loss: 0.2484 - val_accuracy: 0.8968\n",
      "Epoch 35/80\n",
      "1/1 [==============================] - 1s 891ms/step - loss: 0.2369 - accuracy: 0.9029 - val_loss: 0.2367 - val_accuracy: 0.8968\n",
      "Epoch 36/80\n",
      "1/1 [==============================] - 1s 888ms/step - loss: 0.2248 - accuracy: 0.9029 - val_loss: 0.2249 - val_accuracy: 0.8968\n",
      "Epoch 37/80\n",
      "1/1 [==============================] - 1s 883ms/step - loss: 0.2129 - accuracy: 0.9029 - val_loss: 0.2147 - val_accuracy: 0.8968\n",
      "Epoch 38/80\n",
      "1/1 [==============================] - 1s 902ms/step - loss: 0.2023 - accuracy: 0.9030 - val_loss: 0.2048 - val_accuracy: 0.8969\n",
      "Epoch 39/80\n",
      "1/1 [==============================] - 1s 885ms/step - loss: 0.1911 - accuracy: 0.9030 - val_loss: 0.1973 - val_accuracy: 0.8972\n",
      "Epoch 40/80\n",
      "1/1 [==============================] - 1s 881ms/step - loss: 0.1818 - accuracy: 0.9032 - val_loss: 0.1886 - val_accuracy: 0.8979\n",
      "Epoch 41/80\n",
      "1/1 [==============================] - 1s 922ms/step - loss: 0.1722 - accuracy: 0.9039 - val_loss: 0.1810 - val_accuracy: 0.8994\n",
      "Epoch 42/80\n",
      "1/1 [==============================] - 1s 894ms/step - loss: 0.1641 - accuracy: 0.9053 - val_loss: 0.1747 - val_accuracy: 0.9022\n",
      "Epoch 43/80\n",
      "1/1 [==============================] - 1s 876ms/step - loss: 0.1560 - accuracy: 0.9079 - val_loss: 0.1711 - val_accuracy: 0.9059\n",
      "Epoch 44/80\n",
      "1/1 [==============================] - 1s 897ms/step - loss: 0.1497 - accuracy: 0.9114 - val_loss: 0.1635 - val_accuracy: 0.9087\n",
      "Epoch 45/80\n",
      "1/1 [==============================] - 1s 885ms/step - loss: 0.1426 - accuracy: 0.9141 - val_loss: 0.1589 - val_accuracy: 0.9118\n",
      "Epoch 46/80\n",
      "1/1 [==============================] - 1s 870ms/step - loss: 0.1363 - accuracy: 0.9170 - val_loss: 0.1584 - val_accuracy: 0.9141\n",
      "Epoch 47/80\n",
      "1/1 [==============================] - 1s 882ms/step - loss: 0.1323 - accuracy: 0.9193 - val_loss: 0.1528 - val_accuracy: 0.9183\n",
      "Epoch 48/80\n",
      "1/1 [==============================] - 1s 882ms/step - loss: 0.1296 - accuracy: 0.9232 - val_loss: 0.1500 - val_accuracy: 0.9209\n",
      "Epoch 49/80\n",
      "1/1 [==============================] - 1s 698ms/step - loss: 0.1217 - accuracy: 0.9259 - val_loss: 0.1544 - val_accuracy: 0.9224\n",
      "Epoch 50/80\n",
      "1/1 [==============================] - 1s 697ms/step - loss: 0.1211 - accuracy: 0.9275 - val_loss: 0.1502 - val_accuracy: 0.9293\n",
      "Epoch 51/80\n",
      "1/1 [==============================] - 1s 892ms/step - loss: 0.1231 - accuracy: 0.9336 - val_loss: 0.1452 - val_accuracy: 0.9327\n",
      "Epoch 52/80\n",
      "1/1 [==============================] - 1s 694ms/step - loss: 0.1127 - accuracy: 0.9372 - val_loss: 0.1716 - val_accuracy: 0.9278\n",
      "Epoch 53/80\n",
      "1/1 [==============================] - 1s 694ms/step - loss: 0.1251 - accuracy: 0.9331 - val_loss: 0.1463 - val_accuracy: 0.9395\n",
      "Epoch 54/80\n",
      "1/1 [==============================] - 1s 699ms/step - loss: 0.1130 - accuracy: 0.9433 - val_loss: 0.1527 - val_accuracy: 0.9410\n",
      "Epoch 55/80\n",
      "1/1 [==============================] - 1s 872ms/step - loss: 0.1211 - accuracy: 0.9447 - val_loss: 0.1441 - val_accuracy: 0.9467\n",
      "Epoch 56/80\n",
      "1/1 [==============================] - 1s 693ms/step - loss: 0.1061 - accuracy: 0.9507 - val_loss: 0.1610 - val_accuracy: 0.9428\n",
      "Epoch 57/80\n",
      "1/1 [==============================] - 1s 696ms/step - loss: 0.1101 - accuracy: 0.9477 - val_loss: 0.1576 - val_accuracy: 0.9472\n",
      "Epoch 58/80\n",
      "1/1 [==============================] - 1s 699ms/step - loss: 0.1052 - accuracy: 0.9519 - val_loss: 0.1466 - val_accuracy: 0.9557\n",
      "Epoch 59/80\n",
      "1/1 [==============================] - 1s 694ms/step - loss: 0.1001 - accuracy: 0.9594 - val_loss: 0.1503 - val_accuracy: 0.9577\n",
      "Epoch 60/80\n",
      "1/1 [==============================] - 1s 698ms/step - loss: 0.1046 - accuracy: 0.9611 - val_loss: 0.1509 - val_accuracy: 0.9603\n",
      "Epoch 61/80\n",
      "1/1 [==============================] - 1s 694ms/step - loss: 0.0993 - accuracy: 0.9641 - val_loss: 0.1585 - val_accuracy: 0.9600\n",
      "Epoch 62/80\n",
      "1/1 [==============================] - 1s 695ms/step - loss: 0.0949 - accuracy: 0.9643 - val_loss: 0.1715 - val_accuracy: 0.9569\n",
      "Epoch 63/80\n",
      "1/1 [==============================] - 1s 696ms/step - loss: 0.0994 - accuracy: 0.9618 - val_loss: 0.1566 - val_accuracy: 0.9626\n",
      "Epoch 64/80\n",
      "1/1 [==============================] - 1s 697ms/step - loss: 0.0920 - accuracy: 0.9668 - val_loss: 0.1481 - val_accuracy: 0.9655\n",
      "Epoch 65/80\n",
      "1/1 [==============================] - 1s 697ms/step - loss: 0.0922 - accuracy: 0.9691 - val_loss: 0.1458 - val_accuracy: 0.9661\n",
      "Epoch 66/80\n",
      "1/1 [==============================] - 1s 697ms/step - loss: 0.0928 - accuracy: 0.9694 - val_loss: 0.1443 - val_accuracy: 0.9671\n",
      "Epoch 67/80\n",
      "1/1 [==============================] - 1s 698ms/step - loss: 0.0883 - accuracy: 0.9706 - val_loss: 0.1501 - val_accuracy: 0.9653\n",
      "Epoch 68/80\n",
      "1/1 [==============================] - 1s 699ms/step - loss: 0.0875 - accuracy: 0.9693 - val_loss: 0.1534 - val_accuracy: 0.9645\n",
      "Epoch 69/80\n",
      "1/1 [==============================] - 1s 696ms/step - loss: 0.0877 - accuracy: 0.9689 - val_loss: 0.1450 - val_accuracy: 0.9683\n",
      "Epoch 70/80\n",
      "1/1 [==============================] - 1s 1s/step - loss: 0.0833 - accuracy: 0.9723 - val_loss: 0.1425 - val_accuracy: 0.9693\n",
      "Epoch 71/80\n",
      "1/1 [==============================] - 1s 691ms/step - loss: 0.0838 - accuracy: 0.9731 - val_loss: 0.1434 - val_accuracy: 0.9696\n",
      "Epoch 72/80\n",
      "1/1 [==============================] - 1s 695ms/step - loss: 0.0823 - accuracy: 0.9737 - val_loss: 0.1485 - val_accuracy: 0.9689\n",
      "Epoch 73/80\n",
      "1/1 [==============================] - 1s 694ms/step - loss: 0.0799 - accuracy: 0.9738 - val_loss: 0.1526 - val_accuracy: 0.9675\n",
      "Epoch 74/80\n",
      "1/1 [==============================] - 1s 877ms/step - loss: 0.0805 - accuracy: 0.9727 - val_loss: 0.1412 - val_accuracy: 0.9703\n",
      "Epoch 75/80\n",
      "1/1 [==============================] - 1s 889ms/step - loss: 0.0770 - accuracy: 0.9749 - val_loss: 0.1352 - val_accuracy: 0.9709\n",
      "Epoch 76/80\n",
      "1/1 [==============================] - 1s 877ms/step - loss: 0.0772 - accuracy: 0.9748 - val_loss: 0.1332 - val_accuracy: 0.9713\n",
      "Epoch 77/80\n",
      "1/1 [==============================] - 1s 693ms/step - loss: 0.0752 - accuracy: 0.9752 - val_loss: 0.1359 - val_accuracy: 0.9705\n",
      "Epoch 78/80\n",
      "1/1 [==============================] - 1s 696ms/step - loss: 0.0742 - accuracy: 0.9750 - val_loss: 0.1362 - val_accuracy: 0.9705\n",
      "Epoch 79/80\n",
      "1/1 [==============================] - 1s 888ms/step - loss: 0.0734 - accuracy: 0.9750 - val_loss: 0.1314 - val_accuracy: 0.9719\n",
      "Epoch 80/80\n",
      "1/1 [==============================] - 1s 887ms/step - loss: 0.0713 - accuracy: 0.9761 - val_loss: 0.1310 - val_accuracy: 0.9719\n"
     ]
    },
    {
     "output_type": "display_data",
     "data": {
      "text/plain": [
       "<Figure size 432x288 with 1 Axes>"
      ],
      "image/png": "[encoded data removed]"
     },
     "metadata": {
      "needs_background": "light"
     }
    }
   ],
   "source": [
    "if RUN_MODEL_TRAINING:\n",
    "  from keras.callbacks import ModelCheckpoint, EarlyStopping\n",
    "  tf.keras.backend.clear_session()\n",
    "  checkpoint = ModelCheckpoint(CHECKPOINT_PATH + 'segmentation_norm_80.h5', monitor='val_loss', save_best_only=True)\n",
    "  history = model.fit(train_data, batch_size=16, epochs=80, verbose=1, shuffle=True, validation_data=valid_data, callbacks=[checkpoint])\n",
    "\n",
    "  plt.plot(history.history['loss'], label='Training Loss')\n",
    "  plt.plot(history.history['val_loss'], label='Validation Loss')\n",
    "  plt.legend()\n",
    "  plt.xlabel('Epochs')\n",
    "  plt.ylabel('Loss')\n",
    "  plt.show()\n",
    "else:\n",
    "    #history = model.load_weights(BASE_PATH + 'final_weights/segmentation_weights_98_accuracy.h5')\n",
    "    model = tf.keras.models.load_model(MODEL_PATH)"
   ]
  },
  {
   "cell_type": "code",
   "execution_count": null,
   "metadata": {
    "id": "YNdi4b-p2nqB",
    "pycharm": {
     "name": "#%%\n"
    }
   },
   "outputs": [],
   "source": [
    "outputs = model.predict(test_data, batch_size=16)"
   ]
  },
  {
   "cell_type": "code",
   "execution_count": null,
   "metadata": {
    "id": "DsIaB030pVb0",
    "colab": {
     "base_uri": "https://localhost:8080/"
    },
    "outputId": "39d5c617-4d47-4c2c-89a7-1ddb41850c67",
    "pycharm": {
     "name": "#%%\n"
    }
   },
   "outputs": [
    {
     "output_type": "stream",
     "name": "stdout",
     "text": [
      "[[[4.9835587e-01 5.0164407e-01]\n",
      "  [6.8609524e-01 3.1390473e-01]\n",
      "  [6.7050278e-01 3.2949719e-01]\n",
      "  ...\n",
      "  [6.5661353e-01 3.4338653e-01]\n",
      "  [6.2577277e-01 3.7422726e-01]\n",
      "  [5.5656785e-01 4.4343215e-01]]\n",
      "\n",
      " [[5.5605686e-01 4.4394311e-01]\n",
      "  [6.5519589e-01 3.4480411e-01]\n",
      "  [7.4971986e-01 2.5028017e-01]\n",
      "  ...\n",
      "  [7.9844087e-01 2.0155910e-01]\n",
      "  [6.7880243e-01 3.2119751e-01]\n",
      "  [6.9010454e-01 3.0989546e-01]]\n",
      "\n",
      " [[6.3959408e-01 3.6040595e-01]\n",
      "  [8.9871877e-01 1.0128122e-01]\n",
      "  [8.8641453e-01 1.1358548e-01]\n",
      "  ...\n",
      "  [8.9022917e-01 1.0977087e-01]\n",
      "  [8.6645472e-01 1.3354529e-01]\n",
      "  [8.3380675e-01 1.6619329e-01]]\n",
      "\n",
      " ...\n",
      "\n",
      " [[9.9712604e-01 2.8739143e-03]\n",
      "  [9.9983430e-01 1.6566936e-04]\n",
      "  [9.9999607e-01 3.8854523e-06]\n",
      "  ...\n",
      "  [9.9998891e-01 1.1077415e-05]\n",
      "  [9.9965119e-01 3.4880440e-04]\n",
      "  [9.9971682e-01 2.8316810e-04]]\n",
      "\n",
      " [[9.7479522e-01 2.5204761e-02]\n",
      "  [9.9958354e-01 4.1647919e-04]\n",
      "  [9.9961913e-01 3.8090593e-04]\n",
      "  ...\n",
      "  [9.9999845e-01 1.6013687e-06]\n",
      "  [9.9971277e-01 2.8720766e-04]\n",
      "  [9.9819821e-01 1.8018573e-03]]\n",
      "\n",
      " [[9.6708030e-01 3.2919686e-02]\n",
      "  [9.8713559e-01 1.2864462e-02]\n",
      "  [9.9654937e-01 3.4505690e-03]\n",
      "  ...\n",
      "  [9.9527669e-01 4.7233165e-03]\n",
      "  [9.8631811e-01 1.3681845e-02]\n",
      "  [9.5531523e-01 4.4684693e-02]]]\n"
     ]
    }
   ],
   "source": [
    "print(outputs[0])"
   ]
  },
  {
   "cell_type": "code",
   "execution_count": null,
   "metadata": {
    "id": "eB_1iME953Vf",
    "pycharm": {
     "name": "#%%\n"
    }
   },
   "outputs": [],
   "source": [
    "# Convert from logits to binary segmentation map\n",
    "#outputs = outputs[0]\n",
    "outputs = np.array(outputs).argmax(3)"
   ]
  },
  {
   "cell_type": "code",
   "execution_count": null,
   "metadata": {
    "id": "tnllYpee_kw9",
    "colab": {
     "base_uri": "https://localhost:8080/",
     "height": 355
    },
    "outputId": "7ba2bb44-dd56-464f-c70d-7af55eb124fe",
    "pycharm": {
     "name": "#%%\n"
    }
   },
   "outputs": [
    {
     "output_type": "display_data",
     "data": {
      "text/plain": [
       "<Figure size 1080x1080 with 3 Axes>"
      ],
      "image/png": "[encoded data removed]"
     },
     "metadata": {
      "needs_background": "light"
     }
    }
   ],
   "source": [
    "index = 0\n",
    "\n",
    "post_processed = outputs[index].astype(np.uint8)\n",
    "\n",
    "# # remove noise in segmentation map\n",
    "kernel2 = np.ones((5, 5), np.uint8)\n",
    "post_processed = cv.morphologyEx(post_processed, cv.MORPH_OPEN, kernel2)\n",
    "# post_processed = cv.dilate(post_processed, kernel2)\n",
    "\n",
    "# close holes in mask\n",
    "# kernel1 = np.ones((3, 3), np.uint8)\n",
    "# post_processed = cv.dilate(post_processed, kernel1, iterations=1)\n",
    "# kernel2 = np.ones((3, 3), np.uint8)\n",
    "# post_processed = cv.erode(post_processed, kernel2, iterations=1)\n",
    "\n",
    "figure = plt.figure(figsize=(15, 15))\n",
    "\n",
    "# original = figure.add_subplot(131)\n",
    "# plt.imshow(inputs[valid_end + index])\n",
    "\n",
    "expected = figure.add_subplot(131)\n",
    "plt.imshow(segmaps[valid_end + index], 'Greys_r')\n",
    "\n",
    "predicted = figure.add_subplot(132)\n",
    "plt.imshow(outputs[index],'Greys_r')\n",
    "\n",
    "post = figure.add_subplot(133)\n",
    "plt.imshow(post_processed,'Greys_r')\n",
    "\n",
    "# original.title.set_text('Original Image')\n",
    "expected.title.set_text('True Segmentation')\n",
    "predicted.title.set_text('Predicted Segmentation')\n",
    "post.title.set_text('Postprocessed Segmentation')"
   ]
  },
  {
   "cell_type": "code",
   "execution_count": null,
   "metadata": {
    "id": "9bE666urNcJX",
    "pycharm": {
     "name": "#%%\n"
    }
   },
   "outputs": [],
   "source": [
    "#model.save(MODEL_PATH)"
   ]
  },
  {
   "cell_type": "code",
   "source": [
    "whole_data = tf.data.Dataset.from_tensors((x, y))\n",
    "whole_outputs = model.predict(whole_data, batch_size=16)\n",
    "whole_outputs = np.array(whole_outputs).argmax(3)\n",
    "\n",
    "post_processed_outputs = outputs.astype(np.uint8)\n",
    "kernel2 = np.ones((5, 5), np.uint8)\n",
    "for i in range(0, len(post_processed_outputs)):\n",
    "    post_processed_outputs[i] = cv.morphologyEx(post_processed_outputs[i], cv.MORPH_OPEN, kernel2);\n",
    "\n",
    "f = h5py.File(BASE_PATH + 'predicted_segmaps.hdf5', 'w')\n",
    "f.create_dataset('segmaps', data=post_processed_outputs)\n",
    "f.close()"
   ],
   "metadata": {
    "id": "lA8GahF_89O4",
    "pycharm": {
     "name": "#%%\n"
    }
   },
   "execution_count": null,
   "outputs": []
  }
 ],
 "metadata": {
  "accelerator": "GPU",
  "colab": {
   "background_execution": "on",
   "collapsed_sections": [],
   "machine_shape": "hm",
   "name": "FaceMaskSegmentation.ipynb",
   "provenance": []
  },
  "kernelspec": {
   "display_name": "Python 3",
   "name": "python3"
  },
  "language_info": {
   "name": "python"
  }
 },
 "nbformat": 4,
 "nbformat_minor": 0
}