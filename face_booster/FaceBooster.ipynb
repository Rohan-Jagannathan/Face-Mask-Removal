{
  "cells": [
    {
      "cell_type": "code",
      "metadata": {
        "id": "T-atiIhTC1BX"
      },
      "source": [
        "%tensorflow_version 2.x"
      ],
      "execution_count": null,
      "outputs": []
    },
    {
      "cell_type": "code",
      "metadata": {
        "colab": {
          "base_uri": "https://localhost:8080/"
        },
        "id": "E8gWupg29c9K",
        "outputId": "6200af81-c2bd-4a54-edb3-3c5f99fd65ae"
      },
      "source": [
        "from os import listdir\n",
        "from google.colab.patches import cv2_imshow\n",
        "import h5py\n",
        "import numpy as np\n",
        "import cv2 as cv\n",
        "import tensorflow as tf\n",
        "import math\n",
        "from matplotlib import pyplot as plt\n",
        "from google.colab import drive\n",
        "import pickle\n",
        "import pandas as pd\n",
        "import base64\n",
        "from random import randint\n",
        "print(\"Imported\")"
      ],
      "execution_count": null,
      "outputs": [
        {
          "output_type": "stream",
          "name": "stdout",
          "text": [
            "Imported\n"
          ]
        }
      ]
    },
    {
      "cell_type": "code",
      "metadata": {
        "id": "0oq1vOuZ7AlI",
        "colab": {
          "base_uri": "https://localhost:8080/"
        },
        "outputId": "cecbfdbb-110c-43c9-c20b-36b1bd5fbdf7"
      },
      "source": [
        "# access google drive\n",
        "drive.mount('/content/drive')"
      ],
      "execution_count": null,
      "outputs": [
        {
          "output_type": "stream",
          "name": "stdout",
          "text": [
            "Mounted at /content/drive\n"
          ]
        }
      ]
    },
    {
      "cell_type": "markdown",
      "metadata": {
        "id": "ZZwgES8qmHyd"
      },
      "source": [
        "Settings"
      ]
    },
    {
      "cell_type": "code",
      "metadata": {
        "id": "PEZhj2QymKb6"
      },
      "source": [
        "# subimages\n",
        "input_size = 33\n",
        "label_size = 21\n",
        "stride = 14\n",
        "edge = int((input_size - label_size) / 2)\n",
        "\n",
        "# dataset split\n",
        "split = 900\n",
        "\n",
        "# file paths\n",
        "ae_outputs = \"/content/drive/MyDrive/dataset/ae_output.hdf5\"\n",
        "dataset = \"/content/drive/MyDrive/dataset/dataset.hdf5\"\n",
        "training_data = \"/content/drive/MyDrive/dataset/srcnn_train.h5\"\n",
        "weights_data = f\"/content/drive/MyDrive/checkpoints/srcnn_weights.ckpt\"\n",
        "training_results_path = f\"/content/drive/MyDrive/srcnn_results.pickle\"\n",
        "\n",
        "# processes\n",
        "run_train = False\n",
        "run_test = True\n",
        "run_graphs = True"
      ],
      "execution_count": null,
      "outputs": []
    },
    {
      "cell_type": "markdown",
      "metadata": {
        "id": "GxrcDUUH-aVR"
      },
      "source": [
        "Color Conversions"
      ]
    },
    {
      "cell_type": "code",
      "metadata": {
        "colab": {
          "base_uri": "https://localhost:8080/"
        },
        "id": "bjCGhmBV-b6v",
        "outputId": "9ab64e5a-0e5f-4855-d049-216f09003b93"
      },
      "source": [
        "def rgb2ycbcr(im):\n",
        "    xform = np.array([[.299, .587, .114], [-.1687, -.3313, .5], [.5, -.4187, -.0813]])\n",
        "    ycbcr = im.dot(xform.T)\n",
        "    ycbcr[:,:,[1,2]] += 128\n",
        "    return np.uint8(ycbcr)\n",
        "\n",
        "def ycbcr2rgb(im):\n",
        "    xform = np.array([[1, 0, 1.402], [1, -0.34414, -.71414], [1, 1.772, 0]])\n",
        "    rgb = im.astype(np.float)\n",
        "    rgb[:,:,[1,2]] -= 128\n",
        "    rgb = rgb.dot(xform.T)\n",
        "    np.putmask(rgb, rgb > 255, 255)\n",
        "    np.putmask(rgb, rgb < 0, 0)\n",
        "    return np.uint8(rgb)\n",
        "\n",
        "print(\"defined\")"
      ],
      "execution_count": null,
      "outputs": [
        {
          "output_type": "stream",
          "name": "stdout",
          "text": [
            "defined\n"
          ]
        }
      ]
    },
    {
      "cell_type": "markdown",
      "metadata": {
        "id": "gPnH8ELY-5WG"
      },
      "source": [
        "Prepare Training Data"
      ]
    },
    {
      "cell_type": "code",
      "metadata": {
        "id": "r91uc6XpHjDM",
        "colab": {
          "base_uri": "https://localhost:8080/"
        },
        "outputId": "36bc81c8-90e1-4570-ef5a-c1568488fb83"
      },
      "source": [
        "# generate training subimages and save them to HDF5 file\n",
        "def prepare_training_data():\n",
        "  # image settings\n",
        "\n",
        "  input = []\n",
        "  label = []\n",
        "  \n",
        "  ae_file = h5py.File(ae_outputs, 'r')\n",
        "  ds_file = h5py.File(dataset, 'r')\n",
        "\n",
        "  for i in range(0, split):\n",
        "    image_input = np.array(ae_file['output'][i]) * 255\n",
        "    image_label = np.array(ds_file['celeba'][i])\n",
        "\n",
        "    # change color space to ycrcb\n",
        "    image_input = rgb2ycbcr(image_input)\n",
        "    image_label = rgb2ycbcr(image_label)\n",
        "\n",
        "    # only use luminance and normalize\n",
        "    image_input = image_input[:, :, 0].astype(np.float) / 255.0\n",
        "    image_label = image_label[:, :, 0].astype(np.float) / 255.0\n",
        "\n",
        "    # generate input and label subimages\n",
        "    h = image_input.shape[0]\n",
        "    w = image_input.shape[1]\n",
        "    for r in range(0, h - input_size, stride):\n",
        "      for c in range(0, w - input_size, stride):\n",
        "        # use the stride to generate subimage\n",
        "        subimage_input = image_input[r : r + input_size, c : c + input_size]\n",
        "        subimage_label = image_label[r + edge : r + edge + label_size, c + edge : c + edge + label_size]\n",
        "\n",
        "        # reshape to add third dimension for training\n",
        "        subimage_input = subimage_input.reshape(input_size, input_size, 1)\n",
        "        subimage_label = subimage_label.reshape(label_size, label_size, 1)\n",
        "\n",
        "        # add to lists\n",
        "        input.append(subimage_input)\n",
        "        label.append(subimage_label)\n",
        "\n",
        "\n",
        "  # shuffle the subimage data\n",
        "  count = len(input)\n",
        "  order = np.random.choice(count, count, replace=False)\n",
        "  input = np.array([input[i] for i in order])\n",
        "  label = np.array([label[i] for i in order])\n",
        "\n",
        "  print(f\"Prepared Training Data: {len(input)}\")\n",
        "\n",
        "  # save the training data to an HDF5 file\n",
        "  with h5py.File(training_data, 'w') as td:\n",
        "    td.create_dataset('input', data=input)\n",
        "    td.create_dataset('label', data=label)\n",
        "\n",
        "  ae_file.close()\n",
        "  ds_file.close()\n",
        "\n",
        "  print(\"saved\")\n",
        "\n",
        "print(\"defined\")"
      ],
      "execution_count": null,
      "outputs": [
        {
          "output_type": "stream",
          "name": "stdout",
          "text": [
            "defined\n"
          ]
        }
      ]
    },
    {
      "cell_type": "code",
      "source": [
        "prepare_training_data()"
      ],
      "metadata": {
        "colab": {
          "base_uri": "https://localhost:8080/"
        },
        "id": "wfSnSDXpJJTn",
        "outputId": "9b7bf150-d6c7-4af6-bb12-1ffa71354475"
      },
      "execution_count": null,
      "outputs": [
        {
          "output_type": "stream",
          "name": "stderr",
          "text": [
            "/usr/local/lib/python3.7/dist-packages/ipykernel_launcher.py:20: DeprecationWarning: `np.float` is a deprecated alias for the builtin `float`. To silence this warning, use `float` by itself. Doing this will not modify any behavior and is safe. If you specifically wanted the numpy scalar type, use `np.float64` here.\n",
            "Deprecated in NumPy 1.20; for more details and guidance: https://numpy.org/devdocs/release/1.20.0-notes.html#deprecations\n",
            "/usr/local/lib/python3.7/dist-packages/ipykernel_launcher.py:21: DeprecationWarning: `np.float` is a deprecated alias for the builtin `float`. To silence this warning, use `float` by itself. Doing this will not modify any behavior and is safe. If you specifically wanted the numpy scalar type, use `np.float64` here.\n",
            "Deprecated in NumPy 1.20; for more details and guidance: https://numpy.org/devdocs/release/1.20.0-notes.html#deprecations\n"
          ]
        },
        {
          "output_type": "stream",
          "name": "stdout",
          "text": [
            "Prepared Training Data: 21600\n",
            "saved\n"
          ]
        }
      ]
    },
    {
      "cell_type": "markdown",
      "metadata": {
        "id": "CrBsm2YBcPeC"
      },
      "source": [
        "Build SRCNN"
      ]
    },
    {
      "cell_type": "code",
      "metadata": {
        "colab": {
          "base_uri": "https://localhost:8080/"
        },
        "id": "7GDaSGUfbuyQ",
        "outputId": "79614c83-86b7-40de-9911-c415b7882dbd"
      },
      "source": [
        "def build_srcnn(learning_rate):\n",
        "  # filter counts\n",
        "  n1, n2, n3 = 64, 32, 1\n",
        "  # filter sizes\n",
        "  f1, f2, f3 = 9, 5, 5\n",
        "\n",
        "  srcnn = tf.keras.models.Sequential()\n",
        "  # Patch Extraction: 64 9x9 filters, no padding, ReLU\n",
        "  srcnn.add(tf.keras.layers.Conv2D(n1, (f1, f1), padding=\"VALID\", activation='relu', input_shape=(104, 88, 1)))\n",
        "  # Non-linear Mapping: 32 5x5 filters, padding, ReLU\n",
        "  srcnn.add(tf.keras.layers.Conv2D(n2, (f2, f2), padding=\"SAME\", activation='relu'))\n",
        "  # Reconstruction: 1 5x5 filter, no padding\n",
        "  srcnn.add(tf.keras.layers.Conv2D(n3, (f3, f3), padding=\"VALID\", activation='relu'))\n",
        "\n",
        "  # PSNR custom metric function\n",
        "  def psnr(y_true, y_pred):\n",
        "    error = tf.keras.backend.square(y_pred - y_true)\n",
        "    mse = np.mean(error.numpy()) \n",
        "    return 10 * math.log10(1.0 / mse)\n",
        "\n",
        "  # Gradient Descent to minimize MSE with PSNR as metric\n",
        "  srcnn.compile(\n",
        "      optimizer=tf.keras.optimizers.Adam(learning_rate=learning_rate),\n",
        "      loss=tf.keras.losses.MeanSquaredError(),\n",
        "      metrics=[psnr],\n",
        "      run_eagerly=True)\n",
        "\n",
        "  return srcnn\n",
        "\n",
        "print(\"defined\")"
      ],
      "execution_count": null,
      "outputs": [
        {
          "output_type": "stream",
          "name": "stdout",
          "text": [
            "defined\n"
          ]
        }
      ]
    },
    {
      "cell_type": "markdown",
      "metadata": {
        "id": "yEF-6SvmJfVH"
      },
      "source": [
        "SRCNN Architecture"
      ]
    },
    {
      "cell_type": "code",
      "metadata": {
        "colab": {
          "base_uri": "https://localhost:8080/"
        },
        "id": "pgYaL24SJi4h",
        "outputId": "1a44b32e-1152-4160-8790-1566cede7cf6"
      },
      "source": [
        "def srcnn_architecture():\n",
        "  build_srcnn(learning_rate=0).summary()\n",
        "\n",
        "print(\"defined\")"
      ],
      "execution_count": null,
      "outputs": [
        {
          "output_type": "stream",
          "name": "stdout",
          "text": [
            "defined\n"
          ]
        }
      ]
    },
    {
      "cell_type": "markdown",
      "metadata": {
        "id": "ZimRazfM9QXP"
      },
      "source": [
        "Train SRCNN"
      ]
    },
    {
      "cell_type": "code",
      "metadata": {
        "id": "kP8CS1ok9S-m",
        "colab": {
          "base_uri": "https://localhost:8080/"
        },
        "outputId": "69f5e55d-6371-4c79-f63e-84b043274e63"
      },
      "source": [
        "def train_model():\n",
        "  # hyperparameters\n",
        "  learning_rate = 0.0001\n",
        "  epochs = 150\n",
        "  batch_size = 128\n",
        "\n",
        "  # load the training data\n",
        "  input = []\n",
        "  label = []\n",
        "  with h5py.File(training_data, 'r') as td:\n",
        "    input = np.array(td.get('input'))\n",
        "    label = np.array(td.get('label'))\n",
        "\n",
        "  # callback to save weights every epoch\n",
        "  cp_callback = tf.keras.callbacks.ModelCheckpoint(filepath=weights_data, save_weights_only=True, verbose=1)\n",
        "\n",
        "  # train model\n",
        "  srcnn = build_srcnn(learning_rate=learning_rate)\n",
        "  history = srcnn.fit(x=input, y=label, epochs=epochs, validation_split=0.25, batch_size=batch_size, callbacks=[cp_callback])\n",
        "\n",
        "  with open(training_results_path, 'wb') as file_pi:\n",
        "    pickle.dump(history.history, file_pi)\n",
        "\n",
        "print(\"defined\")"
      ],
      "execution_count": null,
      "outputs": [
        {
          "output_type": "stream",
          "name": "stdout",
          "text": [
            "defined\n"
          ]
        }
      ]
    },
    {
      "cell_type": "markdown",
      "metadata": {
        "id": "HSMrsGHCK1tk"
      },
      "source": [
        "Run Training"
      ]
    },
    {
      "cell_type": "code",
      "metadata": {
        "id": "NylxpUxuK7Fl"
      },
      "source": [
        "if run_train:\n",
        "  # print model architecture\n",
        "  srcnn_architecture()\n",
        "\n",
        "  # create training data\n",
        "  prepare_training_data()\n",
        "\n",
        "  # train and save weights\n",
        "  train_model()\n",
        "\n",
        "  print(\"Finished Training\")"
      ],
      "execution_count": null,
      "outputs": []
    },
    {
      "cell_type": "markdown",
      "metadata": {
        "id": "Qh7SqY6wuJl8"
      },
      "source": [
        "Preparing Test Data"
      ]
    },
    {
      "cell_type": "code",
      "metadata": {
        "colab": {
          "base_uri": "https://localhost:8080/"
        },
        "id": "54OZXvuhuRzh",
        "outputId": "6eb79527-1408-430e-9fd6-20bb727c3e1e"
      },
      "source": [
        "# prepare the images for testing\n",
        "def prepare_test_images():\n",
        "  images = []\n",
        "  input_luminances = []\n",
        "  labels = []\n",
        "\n",
        "  ae_file = h5py.File(ae_outputs, 'r')\n",
        "  ds_file = h5py.File(dataset, 'r')\n",
        "\n",
        "  for i in range(split, 1000):\n",
        "    image_input = np.array(ae_file['output'][i] * 255)\n",
        "    image_label = np.array(ds_file['celeba'])\n",
        "\n",
        "    # change color space to ycrcb\n",
        "    image_input = rgb2ycbcr(image_input)\n",
        "    images.append(image_input)\n",
        "\n",
        "    # isolate luminance\n",
        "    luminance = image_input[:, :, 0].astype(np.float) / 255.0\n",
        "    \n",
        "    # reshape for model input\n",
        "    luminance = luminance.reshape(luminance.shape[0], luminance.shape[1], 1)\n",
        "\n",
        "    input_luminances.append(luminance)\n",
        "    labels.append(image_label)\n",
        "\n",
        "  ae_file.close()\n",
        "  ds_file.close()\n",
        "\n",
        "  return labels, images, input_luminances\n",
        "\n",
        "print(\"defined\")"
      ],
      "execution_count": null,
      "outputs": [
        {
          "output_type": "stream",
          "name": "stdout",
          "text": [
            "defined\n"
          ]
        }
      ]
    },
    {
      "cell_type": "markdown",
      "metadata": {
        "id": "zSpHXLAPXVYt"
      },
      "source": [
        "Test SRCNN"
      ]
    },
    {
      "cell_type": "code",
      "metadata": {
        "colab": {
          "base_uri": "https://localhost:8080/"
        },
        "id": "gHF2gch01RYB",
        "outputId": "dcae5b6e-51c4-4944-d915-48c9faf1bb6b"
      },
      "source": [
        "def test_model():\n",
        "  # get test data\n",
        "  labels, images, input_luminances = prepare_test_images()\n",
        "\n",
        "  # create model\n",
        "  model = build_srcnn(0)\n",
        "\n",
        "  # load trained weights\n",
        "  model.load_weights(weights_data)\n",
        "\n",
        "  # define psnr\n",
        "  def psnr(im1, im2):\n",
        "    error = np.square(im1 - im2)\n",
        "    mse = np.mean(error) \n",
        "    return 10 * math.log10(255.0**2 / mse)\n",
        "\n",
        "  # shave borders for same dimensions\n",
        "  def shave(image, border):\n",
        "    return image[border:-border, border:-border]\n",
        "\n",
        "  def pad(image, amount):\n",
        "    padded = np.zeros((image.shape[0] + amount * 2, image.shape[1] + amount * 2, 3), dtype=image.dtype)\n",
        "    for r in range(0, image.shape[0]):\n",
        "      for c in range(0, image.shape[1]):\n",
        "        padded[r + amount, c + amount, :] = image[r, c, :]\n",
        "    \n",
        "    return padded\n",
        "\n",
        "  outputs = []\n",
        "  for i in range(0, len(images)):\n",
        "    label = shave(images[i][:, :, 0], edge)\n",
        "    \n",
        "    x = input_luminances[i]\n",
        "    x = x.reshape(1, x.shape[0], x.shape[1], 1)\n",
        "    output = model.predict(x)[0, :, :, 0] * 255\n",
        "    output_image = np.zeros((output.shape[0], output.shape[1], 3))\n",
        "    output_image[:, :, 0] = output\n",
        "    output_image[:, :, 1:3] = shave(images[i][:, :, 1:3], edge)\n",
        "    output_image = ycbcr2rgb(output_image)\n",
        "    output_image = pad(output_image, 6)\n",
        "\n",
        "    outputs.append(output_image)\n",
        "\n",
        "  return outputs\n",
        "\n",
        "print(\"defined\")"
      ],
      "execution_count": null,
      "outputs": [
        {
          "output_type": "stream",
          "name": "stdout",
          "text": [
            "defined\n"
          ]
        }
      ]
    },
    {
      "cell_type": "markdown",
      "metadata": {
        "id": "NH8yfGEYwT9D"
      },
      "source": [
        "Run Tests"
      ]
    },
    {
      "cell_type": "code",
      "metadata": {
        "id": "1THSD9PFwYvr",
        "colab": {
          "base_uri": "https://localhost:8080/"
        },
        "outputId": "7e88a5ec-f295-40bd-acdf-4a157df55fde"
      },
      "source": [
        "outputs = test_model()"
      ],
      "execution_count": null,
      "outputs": [
        {
          "output_type": "stream",
          "name": "stderr",
          "text": [
            "/usr/local/lib/python3.7/dist-packages/ipykernel_launcher.py:19: DeprecationWarning: `np.float` is a deprecated alias for the builtin `float`. To silence this warning, use `float` by itself. Doing this will not modify any behavior and is safe. If you specifically wanted the numpy scalar type, use `np.float64` here.\n",
            "Deprecated in NumPy 1.20; for more details and guidance: https://numpy.org/devdocs/release/1.20.0-notes.html#deprecations\n",
            "/usr/local/lib/python3.7/dist-packages/ipykernel_launcher.py:9: DeprecationWarning: `np.float` is a deprecated alias for the builtin `float`. To silence this warning, use `float` by itself. Doing this will not modify any behavior and is safe. If you specifically wanted the numpy scalar type, use `np.float64` here.\n",
            "Deprecated in NumPy 1.20; for more details and guidance: https://numpy.org/devdocs/release/1.20.0-notes.html#deprecations\n",
            "  if __name__ == '__main__':\n"
          ]
        }
      ]
    },
    {
      "cell_type": "code",
      "source": [
        "ae_file = h5py.File(ae_outputs, 'r')\n",
        "ds_file = h5py.File(dataset, 'r')\n",
        "\n",
        "figure = plt.figure(figsize=(10, 10))\n",
        "rand_index = 15\n",
        "\n",
        "segmap = np.array(ds_file['segmentation_masks'][split + rand_index])\n",
        "inverse_segmap = (segmap - 1) / 255\n",
        "masked = np.array(ds_file['masked_faces'][split + rand_index])\n",
        "removed = (masked / 255) * (np.repeat(np.expand_dims(inverse_segmap, axis=-1), 3, axis=-1))\n",
        "ae_output = np.array(ae_file['output'][split + rand_index])\n",
        "srcnn_output = outputs[rand_index] / 255.0\n",
        "ae_section = ae_output * (np.repeat(np.expand_dims(segmap, axis=-1), 3, axis=-1))\n",
        "srcnn_section = srcnn_output * (np.repeat(np.expand_dims(segmap, axis=-1), 3, axis=-1))\n",
        "ae_merged = removed + ae_section\n",
        "srcnn_merged = removed + srcnn_section\n",
        "ground_truth = np.array(ds_file['celeba'][split + rand_index])\n",
        "\n",
        "input_img = figure.add_subplot(231)\n",
        "plt.imshow(masked)\n",
        "\n",
        "output_img = figure.add_subplot(232)\n",
        "plt.imshow(srcnn_merged)\n",
        "\n",
        "label_img = figure.add_subplot(233)\n",
        "plt.imshow(ground_truth)\n",
        "\n",
        "input_img.title.set_text('Masked')\n",
        "output_img.title.set_text('Unmasked')\n",
        "label_img.title.set_text('Ground Truth')\n",
        "\n",
        "ae_file.close()\n",
        "ds_file.close()"
      ],
      "metadata": {
        "colab": {
          "base_uri": "https://localhost:8080/",
          "height": 258
        },
        "id": "TliOvGxseUyV",
        "outputId": "dc38b9de-c2f0-418c-df9c-e2d58855f9de"
      },
      "execution_count": null,
      "outputs": [
        {
          "output_type": "display_data",
          "data": {
            "text/plain": [
              "<Figure size 720x720 with 3 Axes>"
            ],
            "image/png": "[encoded data removed]"
          },
          "metadata": {
            "needs_background": "light"
          }
        }
      ]
    },
    {
      "cell_type": "markdown",
      "metadata": {
        "id": "ZwmAL-DNyvrB"
      },
      "source": [
        "Visualize Training"
      ]
    },
    {
      "cell_type": "code",
      "metadata": {
        "id": "z8f86L1Myy4I",
        "colab": {
          "base_uri": "https://localhost:8080/",
          "height": 334
        },
        "outputId": "6cbb2e89-ebdc-47b5-9d98-c28261dc388e"
      },
      "source": [
        "if run_graphs:\n",
        "  plt.figure(figsize=(10, 5))\n",
        "  plt.xlabel(\"Epoch\")\n",
        "  plt.ylabel(\"MSE Loss\")\n",
        "\n",
        "  history = pickle.load(open(training_results_path, \"rb\"))\n",
        "  history = pd.DataFrame(history)\n",
        "\n",
        "  epochs = list(range(0, 150))\n",
        "\n",
        "  loss = history['loss']\n",
        "  val_loss = history['val_loss']\n",
        "  psnr = history['psnr']\n",
        "  plt.plot(epochs, loss, label='loss')\n",
        "  plt.plot(epochs, val_loss, label='val_loss')\n",
        "\n",
        "  plt.legend()"
      ],
      "execution_count": null,
      "outputs": [
        {
          "output_type": "display_data",
          "data": {
            "text/plain": [
              "<Figure size 720x360 with 1 Axes>"
            ],
            "image/png": "[encoded data removed]"
          },
          "metadata": {
            "needs_background": "light"
          }
        }
      ]
    },
    {
      "cell_type": "code",
      "source": [
        "srcnn_architecture()"
      ],
      "metadata": {
        "colab": {
          "base_uri": "https://localhost:8080/"
        },
        "id": "wy6Iyoou53mv",
        "outputId": "37133e51-6975-42e9-f7a7-05db242f4630"
      },
      "execution_count": null,
      "outputs": [
        {
          "output_type": "stream",
          "name": "stdout",
          "text": [
            "Model: \"sequential\"\n",
            "_________________________________________________________________\n",
            " Layer (type)                Output Shape              Param #   \n",
            "=================================================================\n",
            " conv2d (Conv2D)             (None, 96, 80, 64)        5248      \n",
            "                                                                 \n",
            " conv2d_1 (Conv2D)           (None, 96, 80, 32)        51232     \n",
            "                                                                 \n",
            " conv2d_2 (Conv2D)           (None, 92, 76, 1)         801       \n",
            "                                                                 \n",
            "=================================================================\n",
            "Total params: 57,281\n",
            "Trainable params: 57,281\n",
            "Non-trainable params: 0\n",
            "_________________________________________________________________\n"
          ]
        }
      ]
    },
    {
      "cell_type": "code",
      "source": [
        "model = build_srcnn(0)\n",
        "model.load_weights(weights_data)\n",
        "#model.save('/content/drive/My Drive/models/superresolution/')"
      ],
      "metadata": {
        "colab": {
          "base_uri": "https://localhost:8080/"
        },
        "id": "gCba6dVUX52U",
        "outputId": "f25e7544-cce9-4370-e520-bfb70954fc3c"
      },
      "execution_count": null,
      "outputs": [
        {
          "output_type": "stream",
          "name": "stdout",
          "text": [
            "INFO:tensorflow:Assets written to: /content/drive/My Drive/models/superresolution/assets\n"
          ]
        }
      ]
    }
  ],
  "metadata": {
    "accelerator": "GPU",
    "colab": {
      "machine_shape": "hm",
      "provenance": []
    },
    "kernelspec": {
      "display_name": "Python 3",
      "name": "python3"
    },
    "language_info": {
      "name": "python"
    }
  },
  "nbformat": 4,
  "nbformat_minor": 0
}